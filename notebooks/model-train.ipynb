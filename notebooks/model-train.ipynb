{
 "cells": [
  {
   "cell_type": "code",
   "execution_count": 29,
   "id": "8d4bfc6e",
   "metadata": {},
   "outputs": [],
   "source": [
    "\n",
    "import pandas as pd\n",
    "import mlflow\n",
    "import seaborn as sns\n",
    "from mlflow.models.signature import infer_signature\n",
    "import mlflow.sklearn\n",
    "from sklearn.linear_model import LogisticRegression\n",
    "from sklearn.ensemble import RandomForestClassifier\n",
    "from sklearn.tree import DecisionTreeClassifier\n",
    "from sklearn.model_selection import train_test_split\n",
    "from sklearn.metrics import classification_report, roc_auc_score, confusion_matrix\n",
    "import shap\n",
    "from sklearn.metrics import accuracy_score\n",
    "import matplotlib.pyplot as plt\n",
    "from sklearn.preprocessing import StandardScaler\n",
    "import joblib\n",
    "from xgboost import XGBClassifier\n",
    "from sklearn.svm import SVC\n",
    "from sklearn.metrics import roc_curve, RocCurveDisplay\n",
    "client = mlflow.tracking.MlflowClient()"
   ]
  },
  {
   "cell_type": "code",
   "execution_count": 30,
   "id": "6839f1d6",
   "metadata": {},
   "outputs": [],
   "source": [
    "mlflow.set_tracking_uri(uri=\"http://127.0.0.1:5000\")\n"
   ]
  },
  {
   "cell_type": "code",
   "execution_count": 31,
   "id": "35bd50fb",
   "metadata": {},
   "outputs": [],
   "source": [
    "# Load processed data\n",
    "df = pd.read_csv(\"../data/processed_insurance_data.csv\")\n",
    "X = df.drop(\"fraud_reported\", axis=1)\n",
    "y = df[\"fraud_reported\"]\n"
   ]
  },
  {
   "cell_type": "code",
   "execution_count": 32,
   "id": "e34596e9",
   "metadata": {},
   "outputs": [],
   "source": [
    "## Apply standard scaling to numerical features\n",
    "scaler = StandardScaler()\n",
    "X_scaled = scaler.fit_transform(X)\n",
    "X_scaled = pd.DataFrame(X_scaled, columns=X.columns, index=X.index)\n"
   ]
  },
  {
   "cell_type": "code",
   "execution_count": 33,
   "id": "ee755d24",
   "metadata": {},
   "outputs": [
    {
     "name": "stdout",
     "output_type": "stream",
     "text": [
      "Train/Test sizes: (800, 26) (200, 26)\n"
     ]
    }
   ],
   "source": [
    "# Train/Test Split\n",
    "X_train, X_test, y_train, y_test = train_test_split(X_scaled, y, stratify=y, test_size=0.2, random_state=42)\n",
    "print(\"Train/Test sizes:\", X_train.shape, X_test.shape)\n"
   ]
  },
  {
   "cell_type": "code",
   "execution_count": 34,
   "id": "3096e1bd",
   "metadata": {},
   "outputs": [],
   "source": [
    "experiment_name = \"Auto Insurance Fraud Detection\"\n",
    "\n",
    "experiment_id = mlflow.set_experiment(experiment_name)"
   ]
  },
  {
   "cell_type": "markdown",
   "id": "552efbe7",
   "metadata": {},
   "source": [
    "### Logistic Regression"
   ]
  },
  {
   "cell_type": "code",
   "execution_count": 35,
   "id": "1d6678e8",
   "metadata": {},
   "outputs": [
    {
     "name": "stdout",
     "output_type": "stream",
     "text": [
      "🏃 View run LogisticRegression at: http://127.0.0.1:5000/#/experiments/147046143188902615/runs/2d56accef036474ba193e95818c54710\n",
      "🧪 View experiment at: http://127.0.0.1:5000/#/experiments/147046143188902615\n"
     ]
    },
    {
     "name": "stderr",
     "output_type": "stream",
     "text": [
      "/opt/anaconda3/envs/project_env/lib/python3.11/site-packages/sklearn/metrics/_plot/roc_curve.py:189: UserWarning: No artists with labels found to put in legend.  Note that artists whose label start with an underscore are ignored when legend() is called with no argument.\n",
      "  self.ax_.legend(loc=\"lower right\")\n"
     ]
    }
   ],
   "source": [
    "# === Logistic Regression ===\n",
    "with mlflow.start_run(run_name=\"LogisticRegression\") as lr_run:\n",
    "    mlflow.set_tag(\"model\", \"LogisticRegression\")\n",
    "    model = LogisticRegression(class_weight='balanced', random_state=42)\n",
    "    model.fit(X_train, y_train)\n",
    "    y_preds = model.predict(X_test)\n",
    "    proba = model.predict_proba(X_test)[:, 1]\n",
    "\n",
    "    auc = roc_auc_score(y_test, proba)\n",
    "    report = classification_report(y_test, y_preds, output_dict=True)\n",
    "    cm = confusion_matrix(y_test, y_preds)\n",
    "    precision = report['1']['precision']\n",
    "    recall = report['1']['recall']\n",
    "    f1_score = report['1']['f1-score']\n",
    "    accuracy = accuracy_score(y_test, y_preds)\n",
    "    metrics = {\n",
    "        'AUC': auc,\n",
    "        'Precision': precision,\n",
    "        'Recall': recall,\n",
    "        'F1-Score': f1_score,\n",
    "        'Accuracy': accuracy\n",
    "    }\n",
    "    mlflow.log_metrics(metrics)\n",
    "    mlflow.log_params(model.get_params())\n",
    "    mlflow.log_param(\"model\", \"LogisticRegression\")\n",
    "\n",
    "    # Log model\n",
    "\n",
    "    signature = infer_signature(X_train, model.predict(X_train))\n",
    "    mlflow.sklearn.log_model(model, \"LogisticRegression\", signature=signature, input_example=X_train.iloc[:1])\n",
    "\n",
    "    fpr, tpr, _ = roc_curve(y_test, proba)\n",
    "    RocCurveDisplay(fpr=fpr, tpr=tpr).plot()\n",
    "    plt.title(\"ROC Curve - LogisticRegression\")\n",
    "    plt.savefig(\"../assets/roc_curve_LogisticRegression.png\")\n",
    "    mlflow.log_artifact(\"../assets/roc_curve_LogisticRegression.png\")\n",
    "    plt.close()\n",
    "\n",
    "    plt.figure(figsize=(6, 4))\n",
    "    sns.heatmap(cm, annot=True, fmt=\"d\", cmap=\"Blues\")\n",
    "    plt.title(\"Confusion Matrix - LogisticRegression\")\n",
    "    plt.xlabel(\"Predicted\")\n",
    "    plt.ylabel(\"Actual\")\n",
    "    plt.savefig(\"../assets/conf_matrix_LogisticRegression.png\")\n",
    "    mlflow.log_artifact(\"../assets/conf_matrix_LogisticRegression.png\")\n",
    "    plt.close()\n",
    "\n"
   ]
  },
  {
   "cell_type": "markdown",
   "id": "e6845fda",
   "metadata": {},
   "source": [
    "### Random Forest"
   ]
  },
  {
   "cell_type": "code",
   "execution_count": 38,
   "id": "a0eaf98b",
   "metadata": {},
   "outputs": [
    {
     "name": "stdout",
     "output_type": "stream",
     "text": [
      "🏃 View run RandomForest at: http://127.0.0.1:5000/#/experiments/147046143188902615/runs/f588c848fed345e3a89ebc1de24a5e7b\n",
      "🧪 View experiment at: http://127.0.0.1:5000/#/experiments/147046143188902615\n"
     ]
    },
    {
     "name": "stderr",
     "output_type": "stream",
     "text": [
      "/opt/anaconda3/envs/project_env/lib/python3.11/site-packages/sklearn/metrics/_plot/roc_curve.py:189: UserWarning: No artists with labels found to put in legend.  Note that artists whose label start with an underscore are ignored when legend() is called with no argument.\n",
      "  self.ax_.legend(loc=\"lower right\")\n"
     ]
    },
    {
     "data": {
      "text/plain": [
       "<Figure size 640x480 with 0 Axes>"
      ]
     },
     "metadata": {},
     "output_type": "display_data"
    }
   ],
   "source": [
    "# === Random Forest ===\n",
    "with mlflow.start_run(run_name=\"RandomForest\") as rf_run:\n",
    "    mlflow.set_tag(\"model\", \"RandomForest\")\n",
    "    model = RandomForestClassifier(\n",
    "        n_estimators=100,\n",
    "        max_depth=4,\n",
    "        class_weight='balanced',\n",
    "        random_state=42\n",
    "    )\n",
    "    model.fit(X_train, y_train)\n",
    "    y_preds = model.predict(X_test)\n",
    "    proba = model.predict_proba(X_test)[:, 1]\n",
    "\n",
    "    auc = roc_auc_score(y_test, proba)\n",
    "    report = classification_report(y_test, y_preds, output_dict=True)\n",
    "    cm = confusion_matrix(y_test, y_preds)\n",
    "    precision = report['1']['precision']\n",
    "    recall = report['1']['recall']\n",
    "    f1_score = report['1']['f1-score']\n",
    "    accuracy = accuracy_score(y_test, y_preds)\n",
    "    \n",
    "    params = model.get_params()\n",
    "    mlflow.log_params(params)\n",
    "    mlflow.log_param(\"model\", \"RandomForest\")\n",
    "    # Log metrics\n",
    "    metrics = {\n",
    "        'AUC': auc, \n",
    "        'F1_score': f1_score,\n",
    "        'Precision': precision,\n",
    "        'Recall': recall,\n",
    "        'Accuracy': accuracy\n",
    "    }\n",
    "\n",
    "    mlflow.log_metrics(metrics)\n",
    "\n",
    "    signature = infer_signature(X_train, model.predict(X_train))\n",
    "    mlflow.sklearn.log_model(model, \"RandomForest\", signature=signature, input_example=X_train.iloc[:1])\n",
    "\n",
    "    explainer = shap.TreeExplainer(model)\n",
    "    shap_values = explainer.shap_values(X_train)\n",
    "    shap.summary_plot(shap_values, X_train, plot_type=\"bar\", show=False)\n",
    "    plt.savefig(\"../assets/shap_summary_RandomForest.png\")\n",
    "    mlflow.log_artifact(\"../assets/shap_summary_RandomForest.png\")\n",
    "    plt.close()\n",
    "\n",
    "    fpr, tpr, _ = roc_curve(y_test, proba)\n",
    "    RocCurveDisplay(fpr=fpr, tpr=tpr).plot()\n",
    "    plt.title(\"ROC Curve - RandomForest\")\n",
    "    plt.savefig(\"roc_curve_RandomForest.png\")\n",
    "    mlflow.log_artifact(\"roc_curve_RandomForest.png\")\n",
    "    plt.close()\n",
    "\n",
    "    plt.figure(figsize=(6, 4))\n",
    "    sns.heatmap(cm, annot=True, fmt=\"d\", cmap=\"Blues\")\n",
    "    plt.title(\"Confusion Matrix - RandomForest\")\n",
    "    plt.xlabel(\"Predicted\")\n",
    "    plt.ylabel(\"Actual\")\n",
    "    plt.savefig(\"conf_matrix_RandomForest.png\")\n",
    "    mlflow.log_artifact(\"conf_matrix_RandomForest.png\")\n",
    "    plt.close()\n",
    "\n"
   ]
  },
  {
   "cell_type": "markdown",
   "id": "95fc56e1",
   "metadata": {},
   "source": [
    "### XGBoost"
   ]
  },
  {
   "cell_type": "code",
   "execution_count": 39,
   "id": "18d53753",
   "metadata": {},
   "outputs": [
    {
     "name": "stderr",
     "output_type": "stream",
     "text": [
      "/opt/anaconda3/envs/project_env/lib/python3.11/site-packages/xgboost/training.py:183: UserWarning: [03:15:55] WARNING: /Users/runner/work/xgboost/xgboost/src/learner.cc:738: \n",
      "Parameters: { \"use_label_encoder\" } are not used.\n",
      "\n",
      "  bst.update(dtrain, iteration=i, fobj=obj)\n"
     ]
    },
    {
     "data": {
      "image/png": "[encoded data removed]",
      "text/plain": [
       "<Figure size 800x950 with 1 Axes>"
      ]
     },
     "metadata": {},
     "output_type": "display_data"
    },
    {
     "name": "stdout",
     "output_type": "stream",
     "text": [
      "🏃 View run XGBoost at: http://127.0.0.1:5000/#/experiments/147046143188902615/runs/f3bda67dcf564c759636c5f5096361eb\n",
      "🧪 View experiment at: http://127.0.0.1:5000/#/experiments/147046143188902615\n",
      "Model Parameters {'reg_lambda': 'None', 'colsample_bynode': 'None', 'gamma': 'None', 'multi_strategy': 'None', 'validate_parameters': 'None', 'max_cat_threshold': 'None', 'max_delta_step': 'None', 'monotone_constraints': 'None', 'colsample_bylevel': 'None', 'base_score': 'None', 'max_bin': 'None', 'max_depth': '4', 'booster': 'None', 'min_child_weight': 'None', 'learning_rate': 'None', 'objective': 'binary:logistic', 'random_state': 'None', 'scale_pos_weight': '1', 'verbosity': 'None', 'interaction_constraints': 'None', 'use_label_encoder': 'False', 'max_cat_to_onehot': 'None', 'num_parallel_tree': 'None', 'tree_method': 'None', 'model': 'XGBoost', 'grow_policy': 'None', 'device': 'None', 'max_leaves': 'None', 'sampling_method': 'None', 'n_jobs': 'None', 'colsample_bytree': 'None', 'eval_metric': 'auc', 'reg_alpha': 'None', 'subsample': 'None'}\n",
      "Metrics {'Accuracy': 0.85, 'Recall': 0.6530612244897959, 'AUC': 0.8280848763346398, 'Precision': 0.7111111111111111, 'F1_score': 0.6808510638297872}\n"
     ]
    },
    {
     "name": "stderr",
     "output_type": "stream",
     "text": [
      "/opt/anaconda3/envs/project_env/lib/python3.11/site-packages/sklearn/metrics/_plot/roc_curve.py:189: UserWarning: No artists with labels found to put in legend.  Note that artists whose label start with an underscore are ignored when legend() is called with no argument.\n",
      "  self.ax_.legend(loc=\"lower right\")\n"
     ]
    }
   ],
   "source": [
    "# === XGBoost ===\n",
    "with mlflow.start_run(run_name=\"XGBoost\") as xgb_run:\n",
    "    mlflow.set_tag(\"model\", \"XGBoost\")\n",
    "    model = XGBClassifier(\n",
    "        n_estimators=100,\n",
    "        max_depth=4,\n",
    "        use_label_encoder=False,\n",
    "        eval_metric='auc',\n",
    "        scale_pos_weight=1\n",
    ")\n",
    "    model.fit(X_train, y_train)\n",
    "    y_preds = model.predict(X_test)\n",
    "    proba = model.predict_proba(X_test)[:, 1]\n",
    "\n",
    "    auc = roc_auc_score(y_test, proba)\n",
    "    report = classification_report(y_test, y_preds, output_dict=True)\n",
    "    precision = report['1']['precision']\n",
    "    recall = report['1']['recall']\n",
    "    f1_score = report['1']['f1-score']\n",
    "    accuracy = accuracy_score(y_test, y_preds)\n",
    "    cm = confusion_matrix(y_test, y_preds)\n",
    "    params = model.get_xgb_params()\n",
    "\n",
    "    mlflow.log_params(params)\n",
    "    mlflow.log_param(\"model\", \"XGBoost\")\n",
    "\n",
    "    # Log metrics\n",
    "    metrics = {\n",
    "        'AUC': auc, \n",
    "        'F1_score': f1_score,\n",
    "        'Precision': precision,\n",
    "        'Recall': recall,\n",
    "        'Accuracy': accuracy\n",
    "    }\n",
    "\n",
    "    mlflow.log_metrics(metrics)\n",
    "\n",
    "    signature = infer_signature(X_train, model.predict(X_train))\n",
    "    mlflow.sklearn.log_model(model, \"XGBoost\", signature=signature, input_example=X_train.iloc[:1])\n",
    "\n",
    "    explainer = shap.TreeExplainer(model)\n",
    "    shap_values = explainer.shap_values(X_train)\n",
    "    shap.summary_plot(shap_values, X_train, plot_type=\"bar\")\n",
    "    plt.savefig(\"../assets/shap_summary_XGBoost.png\")\n",
    "    mlflow.log_artifact(\"../assets/shap_summary_XGBoost.png\")\n",
    "    plt.close()\n",
    "\n",
    "    fpr, tpr, _ = roc_curve(y_test, proba)\n",
    "    RocCurveDisplay(fpr=fpr, tpr=tpr).plot()\n",
    "    plt.title(\"ROC Curve - XGBoost\")\n",
    "    plt.savefig(\"../assets/roc_curve_XGBoost.png\")\n",
    "    mlflow.log_artifact(\"../assets/roc_curve_XGBoost.png\")\n",
    "    plt.close()\n",
    "\n",
    "    plt.figure(figsize=(6, 4))\n",
    "    sns.heatmap(cm, annot=True, fmt=\"d\", cmap=\"Blues\")\n",
    "    plt.title(\"Confusion Matrix - XGBoost\")\n",
    "    plt.xlabel(\"Predicted\")\n",
    "    plt.ylabel(\"Actual\")\n",
    "    plt.savefig(\"../assets/conf_matrix_XGBoost.png\")\n",
    "    mlflow.log_artifact(\"../assets/conf_matrix_XGBoost.png\")\n",
    "    plt.close()\n",
    "\n",
    "print('Model Parameters', client.get_run(xgb_run.info.run_id).data.params)\n",
    "print('Metrics', client.get_run(xgb_run.info.run_id).data.metrics)"
   ]
  },
  {
   "cell_type": "markdown",
   "id": "aee8b459",
   "metadata": {},
   "source": [
    "### Support Vector Machine"
   ]
  },
  {
   "cell_type": "code",
   "execution_count": 41,
   "id": "80ab417b",
   "metadata": {},
   "outputs": [
    {
     "name": "stdout",
     "output_type": "stream",
     "text": [
      "🏃 View run SVM at: http://127.0.0.1:5000/#/experiments/147046143188902615/runs/a1a69c6371864e689768b442b9a8140c\n",
      "🧪 View experiment at: http://127.0.0.1:5000/#/experiments/147046143188902615\n",
      "SVM model logged to MLflow.\n"
     ]
    }
   ],
   "source": [
    "svm_model = SVC(kernel='rbf', C=1.0, probability=True, random_state=42, class_weight='balanced')\n",
    "\n",
    "with mlflow.start_run(run_name=\"SVM\") as svm_run:\n",
    "    mlflow.set_tag(\"model\", \"SVM\")\n",
    "    svm_model.fit(X_train, y_train)\n",
    "    preds = svm_model.predict(X_test)\n",
    "    probas = svm_model.predict_proba(X_test)[:, 1]\n",
    "\n",
    "    auc = roc_auc_score(y_test, probas)\n",
    "    report = classification_report(y_test, preds, output_dict=True)\n",
    "    cm = confusion_matrix(y_test, preds)\n",
    "    precision = report['1']['precision']\n",
    "    recall = report['1']['recall']\n",
    "    f1_score = report['1']['f1-score']\n",
    "    accuracy = accuracy_score(y_test, preds)\n",
    "    params = svm_model.get_params()\n",
    "    mlflow.log_params(params)\n",
    "    mlflow.log_param(\"model\", \"SVM\")\n",
    "\n",
    "    \n",
    "    # Log metrics\n",
    "    metrics = {\n",
    "        'AUC': auc, \n",
    "        'F1_score': f1_score,\n",
    "        'Precision': precision,\n",
    "        'Recall': recall,\n",
    "        'Accuracy': accuracy\n",
    "    }\n",
    "    mlflow.log_metrics(metrics)\n",
    "\n",
    "    # Log model\n",
    "    signature = infer_signature(X_train, model.predict(X_train))\n",
    "    mlflow.sklearn.log_model(svm_model, \"SVM\", signature=signature, input_example=X_train.iloc[:1])\n",
    "\n",
    "\n",
    "    # Log Confusion Matrix\n",
    "    plt.figure(figsize=(6, 5))\n",
    "    sns.heatmap(cm, annot=True, fmt=\"d\", cmap=\"Blues\")\n",
    "    plt.title(\"SVM Confusion Matrix\")\n",
    "    plt.xlabel(\"Predicted\")\n",
    "    plt.ylabel(\"Actual\")\n",
    "    plt.savefig(\"../assets/svm_confusion_matrix.png\")\n",
    "    mlflow.log_artifact(\"../assets/svm_confusion_matrix.png\")\n",
    "    plt.close()\n",
    "\n",
    "    # ROC Curve\n",
    "    from sklearn.metrics import RocCurveDisplay\n",
    "    RocCurveDisplay.from_estimator(svm_model, X_test, y_test)\n",
    "    plt.title(\"SVM ROC Curve\")\n",
    "    plt.savefig(\"../assets/svm_roc_curve.png\")\n",
    "    mlflow.log_artifact(\"../assets/svm_roc_curve.png\")\n",
    "    plt.close()\n",
    "\n",
    "print(\"SVM model logged to MLflow.\")"
   ]
  },
  {
   "cell_type": "code",
   "execution_count": 42,
   "id": "9ac13887",
   "metadata": {},
   "outputs": [
    {
     "data": {
      "application/vnd.microsoft.datawrangler.viewer.v0+json": {
       "columns": [
        {
         "name": "index",
         "rawType": "int64",
         "type": "integer"
        },
        {
         "name": "run_id",
         "rawType": "object",
         "type": "string"
        },
        {
         "name": "experiment_id",
         "rawType": "object",
         "type": "string"
        },
        {
         "name": "status",
         "rawType": "object",
         "type": "string"
        },
        {
         "name": "artifact_uri",
         "rawType": "object",
         "type": "string"
        },
        {
         "name": "start_time",
         "rawType": "datetime64[ns, UTC]",
         "type": "unknown"
        },
        {
         "name": "end_time",
         "rawType": "datetime64[ns, UTC]",
         "type": "unknown"
        },
        {
         "name": "metrics.Recall",
         "rawType": "float64",
         "type": "float"
        },
        {
         "name": "metrics.AUC",
         "rawType": "float64",
         "type": "float"
        },
        {
         "name": "metrics.F1_score",
         "rawType": "float64",
         "type": "float"
        },
        {
         "name": "metrics.Accuracy",
         "rawType": "float64",
         "type": "float"
        },
        {
         "name": "metrics.Precision",
         "rawType": "float64",
         "type": "float"
        },
        {
         "name": "metrics.F1-Score",
         "rawType": "float64",
         "type": "float"
        },
        {
         "name": "params.reg_lambda",
         "rawType": "object",
         "type": "unknown"
        },
        {
         "name": "params.multi_strategy",
         "rawType": "object",
         "type": "unknown"
        },
        {
         "name": "params.gamma",
         "rawType": "object",
         "type": "unknown"
        },
        {
         "name": "params.num_parallel_tree",
         "rawType": "object",
         "type": "unknown"
        },
        {
         "name": "params.verbosity",
         "rawType": "object",
         "type": "unknown"
        },
        {
         "name": "params.n_jobs",
         "rawType": "object",
         "type": "unknown"
        },
        {
         "name": "params.base_score",
         "rawType": "object",
         "type": "unknown"
        },
        {
         "name": "params.booster",
         "rawType": "object",
         "type": "unknown"
        },
        {
         "name": "params.subsample",
         "rawType": "object",
         "type": "unknown"
        },
        {
         "name": "params.interaction_constraints",
         "rawType": "object",
         "type": "unknown"
        },
        {
         "name": "params.colsample_bylevel",
         "rawType": "object",
         "type": "unknown"
        },
        {
         "name": "params.max_leaves",
         "rawType": "object",
         "type": "unknown"
        },
        {
         "name": "params.tree_method",
         "rawType": "object",
         "type": "unknown"
        },
        {
         "name": "params.max_depth",
         "rawType": "object",
         "type": "unknown"
        },
        {
         "name": "params.eval_metric",
         "rawType": "object",
         "type": "unknown"
        },
        {
         "name": "params.min_child_weight",
         "rawType": "object",
         "type": "unknown"
        },
        {
         "name": "params.random_state",
         "rawType": "object",
         "type": "unknown"
        },
        {
         "name": "params.max_bin",
         "rawType": "object",
         "type": "unknown"
        },
        {
         "name": "params.device",
         "rawType": "object",
         "type": "unknown"
        },
        {
         "name": "params.sampling_method",
         "rawType": "object",
         "type": "unknown"
        },
        {
         "name": "params.grow_policy",
         "rawType": "object",
         "type": "unknown"
        },
        {
         "name": "params.max_cat_to_onehot",
         "rawType": "object",
         "type": "unknown"
        },
        {
         "name": "params.max_delta_step",
         "rawType": "object",
         "type": "unknown"
        },
        {
         "name": "params.reg_alpha",
         "rawType": "object",
         "type": "unknown"
        },
        {
         "name": "params.max_cat_threshold",
         "rawType": "object",
         "type": "unknown"
        },
        {
         "name": "params.scale_pos_weight",
         "rawType": "object",
         "type": "unknown"
        },
        {
         "name": "params.monotone_constraints",
         "rawType": "object",
         "type": "unknown"
        },
        {
         "name": "params.validate_parameters",
         "rawType": "object",
         "type": "unknown"
        },
        {
         "name": "params.learning_rate",
         "rawType": "object",
         "type": "unknown"
        },
        {
         "name": "params.use_label_encoder",
         "rawType": "object",
         "type": "unknown"
        },
        {
         "name": "params.model",
         "rawType": "object",
         "type": "unknown"
        },
        {
         "name": "params.colsample_bytree",
         "rawType": "object",
         "type": "unknown"
        },
        {
         "name": "params.colsample_bynode",
         "rawType": "object",
         "type": "unknown"
        },
        {
         "name": "params.objective",
         "rawType": "object",
         "type": "unknown"
        },
        {
         "name": "params.class_weight",
         "rawType": "object",
         "type": "unknown"
        },
        {
         "name": "params.min_samples_split",
         "rawType": "object",
         "type": "unknown"
        },
        {
         "name": "params.ccp_alpha",
         "rawType": "object",
         "type": "unknown"
        },
        {
         "name": "params.verbose",
         "rawType": "object",
         "type": "unknown"
        },
        {
         "name": "params.max_features",
         "rawType": "object",
         "type": "unknown"
        },
        {
         "name": "params.min_weight_fraction_leaf",
         "rawType": "object",
         "type": "unknown"
        },
        {
         "name": "params.bootstrap",
         "rawType": "object",
         "type": "unknown"
        },
        {
         "name": "params.min_impurity_decrease",
         "rawType": "object",
         "type": "unknown"
        },
        {
         "name": "params.min_samples_leaf",
         "rawType": "object",
         "type": "unknown"
        },
        {
         "name": "params.warm_start",
         "rawType": "object",
         "type": "unknown"
        },
        {
         "name": "params.criterion",
         "rawType": "object",
         "type": "unknown"
        },
        {
         "name": "params.oob_score",
         "rawType": "object",
         "type": "unknown"
        },
        {
         "name": "params.monotonic_cst",
         "rawType": "object",
         "type": "unknown"
        },
        {
         "name": "params.n_estimators",
         "rawType": "object",
         "type": "unknown"
        },
        {
         "name": "params.max_samples",
         "rawType": "object",
         "type": "unknown"
        },
        {
         "name": "params.max_leaf_nodes",
         "rawType": "object",
         "type": "unknown"
        },
        {
         "name": "params.degree",
         "rawType": "object",
         "type": "unknown"
        },
        {
         "name": "params.kernel",
         "rawType": "object",
         "type": "unknown"
        },
        {
         "name": "params.shrinking",
         "rawType": "object",
         "type": "unknown"
        },
        {
         "name": "params.break_ties",
         "rawType": "object",
         "type": "unknown"
        },
        {
         "name": "params.max_iter",
         "rawType": "object",
         "type": "unknown"
        },
        {
         "name": "params.tol",
         "rawType": "object",
         "type": "unknown"
        },
        {
         "name": "params.decision_function_shape",
         "rawType": "object",
         "type": "unknown"
        },
        {
         "name": "params.probability",
         "rawType": "object",
         "type": "unknown"
        },
        {
         "name": "params.coef0",
         "rawType": "object",
         "type": "unknown"
        },
        {
         "name": "params.cache_size",
         "rawType": "object",
         "type": "unknown"
        },
        {
         "name": "params.C",
         "rawType": "object",
         "type": "unknown"
        },
        {
         "name": "params.multi_class",
         "rawType": "object",
         "type": "unknown"
        },
        {
         "name": "params.intercept_scaling",
         "rawType": "object",
         "type": "unknown"
        },
        {
         "name": "params.penalty",
         "rawType": "object",
         "type": "unknown"
        },
        {
         "name": "params.fit_intercept",
         "rawType": "object",
         "type": "unknown"
        },
        {
         "name": "params.dual",
         "rawType": "object",
         "type": "unknown"
        },
        {
         "name": "params.solver",
         "rawType": "object",
         "type": "unknown"
        },
        {
         "name": "params.l1_ratio",
         "rawType": "object",
         "type": "unknown"
        },
        {
         "name": "tags.mlflow.user",
         "rawType": "object",
         "type": "string"
        },
        {
         "name": "tags.mlflow.runName",
         "rawType": "object",
         "type": "string"
        },
        {
         "name": "tags.model",
         "rawType": "object",
         "type": "unknown"
        },
        {
         "name": "tags.mlflow.source.name",
         "rawType": "object",
         "type": "string"
        },
        {
         "name": "tags.mlflow.source.type",
         "rawType": "object",
         "type": "string"
        },
        {
         "name": "tags.mlflow.log-model.history",
         "rawType": "object",
         "type": "unknown"
        }
       ],
       "ref": "6160951c-0ab8-48db-9939-97a3ebd475fd",
       "rows": [
        [
         "0",
         "f3bda67dcf564c759636c5f5096361eb",
         "147046143188902615",
         "FINISHED",
         "/Users/fatimatatanda/Library/CloudStorage/OneDrive-Personal/CLOUD/AI/projects/insurance-fraud-prediction/mlartifacts/f3bda67dcf564c759636c5f5096361eb/artifacts",
         "2025-05-31 08:15:55.476000+00:00",
         "2025-05-31 08:15:57.576000+00:00",
         "0.6530612244897959",
         "0.8280848763346398",
         "0.6808510638297872",
         "0.85",
         "0.7111111111111111",
         null,
         "None",
         "None",
         "None",
         "None",
         "None",
         "None",
         "None",
         "None",
         "None",
         "None",
         "None",
         "None",
         "None",
         "4",
         "auc",
         "None",
         "None",
         "None",
         "None",
         "None",
         "None",
         "None",
         "None",
         "None",
         "None",
         "1",
         "None",
         "None",
         "None",
         "False",
         "XGBoost",
         "None",
         "None",
         "binary:logistic",
         null,
         null,
         null,
         null,
         null,
         null,
         null,
         null,
         null,
         null,
         null,
         null,
         null,
         null,
         null,
         null,
         null,
         null,
         null,
         null,
         null,
         null,
         null,
         null,
         null,
         null,
         null,
         null,
         null,
         null,
         null,
         null,
         null,
         null,
         "fatimatatanda",
         "XGBoost",
         "XGBoost",
         "/opt/anaconda3/envs/project_env/lib/python3.11/site-packages/ipykernel_launcher.py",
         "LOCAL",
         "[{\"run_id\": \"f3bda67dcf564c759636c5f5096361eb\", \"artifact_path\": \"XGBoost\", \"utc_time_created\": \"2025-05-31 08:15:55.637962\", \"model_uuid\": \"cea8414744c14e508c321cb8a5f121aa\", \"flavors\": {\"python_function\": {\"model_path\": \"model.pkl\", \"predict_fn\": \"predict\", \"loader_module\": \"mlflow.sklearn\", \"python_version\": \"3.11.11\", \"env\": {\"conda\": \"conda.yaml\", \"virtualenv\": \"python_env.yaml\"}}, \"sklearn\": {\"pickled_model\": \"model.pkl\", \"sklearn_version\": \"1.6.1\", \"serialization_format\": \"cloudpickle\", \"code\": null}}}]"
        ],
        [
         "1",
         "f588c848fed345e3a89ebc1de24a5e7b",
         "147046143188902615",
         "FINISHED",
         "/Users/fatimatatanda/Library/CloudStorage/OneDrive-Personal/CLOUD/AI/projects/insurance-fraud-prediction/mlartifacts/f588c848fed345e3a89ebc1de24a5e7b/artifacts",
         "2025-05-31 08:15:11.047000+00:00",
         "2025-05-31 08:15:13.214000+00:00",
         "0.8163265306122449",
         "0.825652115150696",
         "0.7079646017699115",
         "0.835",
         "0.625",
         null,
         null,
         null,
         null,
         null,
         null,
         "None",
         null,
         null,
         null,
         null,
         null,
         null,
         null,
         "4",
         null,
         null,
         "42",
         null,
         null,
         null,
         null,
         null,
         null,
         null,
         null,
         null,
         null,
         null,
         null,
         null,
         "RandomForest",
         null,
         null,
         null,
         "balanced",
         "2",
         "0.0",
         "0",
         "sqrt",
         "0.0",
         "True",
         "0.0",
         "1",
         "False",
         "gini",
         "False",
         "None",
         "100",
         "None",
         "None",
         null,
         null,
         null,
         null,
         null,
         null,
         null,
         null,
         null,
         null,
         null,
         null,
         null,
         null,
         null,
         null,
         null,
         null,
         "fatimatatanda",
         "RandomForest",
         "RandomForest",
         "/opt/anaconda3/envs/project_env/lib/python3.11/site-packages/ipykernel_launcher.py",
         "LOCAL",
         "[{\"run_id\": \"f588c848fed345e3a89ebc1de24a5e7b\", \"artifact_path\": \"RandomForest\", \"utc_time_created\": \"2025-05-31 08:15:11.156622\", \"model_uuid\": \"0ee8afe3f5404b9988faca6d57bfc2b8\", \"flavors\": {\"python_function\": {\"model_path\": \"model.pkl\", \"predict_fn\": \"predict\", \"loader_module\": \"mlflow.sklearn\", \"python_version\": \"3.11.11\", \"env\": {\"conda\": \"conda.yaml\", \"virtualenv\": \"python_env.yaml\"}}, \"sklearn\": {\"pickled_model\": \"model.pkl\", \"sklearn_version\": \"1.6.1\", \"serialization_format\": \"cloudpickle\", \"code\": null}}}]"
        ],
        [
         "2",
         "a1a69c6371864e689768b442b9a8140c",
         "147046143188902615",
         "FINISHED",
         "/Users/fatimatatanda/Library/CloudStorage/OneDrive-Personal/CLOUD/AI/projects/insurance-fraud-prediction/mlartifacts/a1a69c6371864e689768b442b9a8140c/artifacts",
         "2025-05-31 08:16:41.656000+00:00",
         "2025-05-31 08:16:43.643000+00:00",
         "0.7551020408163265",
         "0.8208541694823623",
         "0.556390977443609",
         "0.705",
         "0.44047619047619047",
         null,
         null,
         null,
         "scale",
         null,
         null,
         null,
         null,
         null,
         null,
         null,
         null,
         null,
         null,
         null,
         null,
         null,
         "42",
         null,
         null,
         null,
         null,
         null,
         null,
         null,
         null,
         null,
         null,
         null,
         null,
         null,
         "SVM",
         null,
         null,
         null,
         "balanced",
         null,
         null,
         "False",
         null,
         null,
         null,
         null,
         null,
         null,
         null,
         null,
         null,
         null,
         null,
         null,
         "3",
         "rbf",
         "True",
         "False",
         "-1",
         "0.001",
         "ovr",
         "True",
         "0.0",
         "200",
         "1.0",
         null,
         null,
         null,
         null,
         null,
         null,
         null,
         "fatimatatanda",
         "SVM",
         "SVM",
         "/opt/anaconda3/envs/project_env/lib/python3.11/site-packages/ipykernel_launcher.py",
         "LOCAL",
         "[{\"run_id\": \"a1a69c6371864e689768b442b9a8140c\", \"artifact_path\": \"SVM\", \"utc_time_created\": \"2025-05-31 08:16:41.746790\", \"model_uuid\": \"e030d2538d0c42a19040c14bddf392cd\", \"flavors\": {\"python_function\": {\"model_path\": \"model.pkl\", \"predict_fn\": \"predict\", \"loader_module\": \"mlflow.sklearn\", \"python_version\": \"3.11.11\", \"env\": {\"conda\": \"conda.yaml\", \"virtualenv\": \"python_env.yaml\"}}, \"sklearn\": {\"pickled_model\": \"model.pkl\", \"sklearn_version\": \"1.6.1\", \"serialization_format\": \"cloudpickle\", \"code\": null}}}]"
        ],
        [
         "3",
         "2d56accef036474ba193e95818c54710",
         "147046143188902615",
         "FINISHED",
         "/Users/fatimatatanda/Library/CloudStorage/OneDrive-Personal/CLOUD/AI/projects/insurance-fraud-prediction/mlartifacts/2d56accef036474ba193e95818c54710/artifacts",
         "2025-05-31 08:14:28.165000+00:00",
         "2025-05-31 08:14:30.147000+00:00",
         "0.7959183673469388",
         "0.815245303419381",
         null,
         "0.68",
         "0.41935483870967744",
         "0.5492957746478874",
         null,
         null,
         null,
         null,
         null,
         "None",
         null,
         null,
         null,
         null,
         null,
         null,
         null,
         null,
         null,
         null,
         "42",
         null,
         null,
         null,
         null,
         null,
         null,
         null,
         null,
         null,
         null,
         null,
         null,
         null,
         "LogisticRegression",
         null,
         null,
         null,
         "balanced",
         null,
         null,
         "0",
         null,
         null,
         null,
         null,
         null,
         "False",
         null,
         null,
         null,
         null,
         null,
         null,
         null,
         null,
         null,
         null,
         "100",
         "0.0001",
         null,
         null,
         null,
         null,
         "1.0",
         "deprecated",
         "1",
         "l2",
         "True",
         "False",
         "lbfgs",
         "None",
         "fatimatatanda",
         "LogisticRegression",
         "LogisticRegression",
         "/opt/anaconda3/envs/project_env/lib/python3.11/site-packages/ipykernel_launcher.py",
         "LOCAL",
         "[{\"run_id\": \"2d56accef036474ba193e95818c54710\", \"artifact_path\": \"LogisticRegression\", \"utc_time_created\": \"2025-05-31 08:14:28.220735\", \"model_uuid\": \"98402e760e1d453097f6167d6e1177fe\", \"flavors\": {\"python_function\": {\"model_path\": \"model.pkl\", \"predict_fn\": \"predict\", \"loader_module\": \"mlflow.sklearn\", \"python_version\": \"3.11.11\", \"env\": {\"conda\": \"conda.yaml\", \"virtualenv\": \"python_env.yaml\"}}, \"sklearn\": {\"pickled_model\": \"model.pkl\", \"sklearn_version\": \"1.6.1\", \"serialization_format\": \"cloudpickle\", \"code\": null}}}]"
        ],
        [
         "4",
         "121ccc109d3a45b18a718bad125947dc",
         "147046143188902615",
         "FINISHED",
         "/Users/fatimatatanda/Library/CloudStorage/OneDrive-Personal/CLOUD/AI/projects/insurance-fraud-prediction/mlartifacts/121ccc109d3a45b18a718bad125947dc/artifacts",
         "2025-05-31 08:14:10.944000+00:00",
         "2025-05-31 08:14:14.106000+00:00",
         null,
         null,
         null,
         null,
         null,
         null,
         null,
         null,
         null,
         null,
         null,
         null,
         null,
         null,
         null,
         null,
         null,
         null,
         null,
         null,
         null,
         null,
         null,
         null,
         null,
         null,
         null,
         null,
         null,
         null,
         null,
         null,
         null,
         null,
         null,
         null,
         null,
         null,
         null,
         null,
         null,
         null,
         null,
         null,
         null,
         null,
         null,
         null,
         null,
         null,
         null,
         null,
         null,
         null,
         null,
         null,
         null,
         null,
         null,
         null,
         null,
         null,
         null,
         null,
         null,
         null,
         null,
         null,
         null,
         null,
         null,
         null,
         null,
         null,
         "fatimatatanda",
         "EDA and Feature Engineering",
         null,
         "/opt/anaconda3/envs/project_env/lib/python3.11/site-packages/ipykernel_launcher.py",
         "LOCAL",
         null
        ]
       ],
       "shape": {
        "columns": 86,
        "rows": 5
       }
      },
      "text/html": [
       "<div>\n",
       "<style scoped>\n",
       "    .dataframe tbody tr th:only-of-type {\n",
       "        vertical-align: middle;\n",
       "    }\n",
       "\n",
       "    .dataframe tbody tr th {\n",
       "        vertical-align: top;\n",
       "    }\n",
       "\n",
       "    .dataframe thead th {\n",
       "        text-align: right;\n",
       "    }\n",
       "</style>\n",
       "<table border=\"1\" class=\"dataframe\">\n",
       "  <thead>\n",
       "    <tr style=\"text-align: right;\">\n",
       "      <th></th>\n",
       "      <th>run_id</th>\n",
       "      <th>experiment_id</th>\n",
       "      <th>status</th>\n",
       "      <th>artifact_uri</th>\n",
       "      <th>start_time</th>\n",
       "      <th>end_time</th>\n",
       "      <th>metrics.Recall</th>\n",
       "      <th>metrics.AUC</th>\n",
       "      <th>metrics.F1_score</th>\n",
       "      <th>metrics.Accuracy</th>\n",
       "      <th>...</th>\n",
       "      <th>params.fit_intercept</th>\n",
       "      <th>params.dual</th>\n",
       "      <th>params.solver</th>\n",
       "      <th>params.l1_ratio</th>\n",
       "      <th>tags.mlflow.user</th>\n",
       "      <th>tags.mlflow.runName</th>\n",
       "      <th>tags.model</th>\n",
       "      <th>tags.mlflow.source.name</th>\n",
       "      <th>tags.mlflow.source.type</th>\n",
       "      <th>tags.mlflow.log-model.history</th>\n",
       "    </tr>\n",
       "  </thead>\n",
       "  <tbody>\n",
       "    <tr>\n",
       "      <th>0</th>\n",
       "      <td>f3bda67dcf564c759636c5f5096361eb</td>\n",
       "      <td>147046143188902615</td>\n",
       "      <td>FINISHED</td>\n",
       "      <td>/Users/fatimatatanda/Library/CloudStorage/OneD...</td>\n",
       "      <td>2025-05-31 08:15:55.476000+00:00</td>\n",
       "      <td>2025-05-31 08:15:57.576000+00:00</td>\n",
       "      <td>0.653061</td>\n",
       "      <td>0.828085</td>\n",
       "      <td>0.680851</td>\n",
       "      <td>0.850</td>\n",
       "      <td>...</td>\n",
       "      <td>None</td>\n",
       "      <td>None</td>\n",
       "      <td>None</td>\n",
       "      <td>None</td>\n",
       "      <td>fatimatatanda</td>\n",
       "      <td>XGBoost</td>\n",
       "      <td>XGBoost</td>\n",
       "      <td>/opt/anaconda3/envs/project_env/lib/python3.11...</td>\n",
       "      <td>LOCAL</td>\n",
       "      <td>[{\"run_id\": \"f3bda67dcf564c759636c5f5096361eb\"...</td>\n",
       "    </tr>\n",
       "    <tr>\n",
       "      <th>1</th>\n",
       "      <td>f588c848fed345e3a89ebc1de24a5e7b</td>\n",
       "      <td>147046143188902615</td>\n",
       "      <td>FINISHED</td>\n",
       "      <td>/Users/fatimatatanda/Library/CloudStorage/OneD...</td>\n",
       "      <td>2025-05-31 08:15:11.047000+00:00</td>\n",
       "      <td>2025-05-31 08:15:13.214000+00:00</td>\n",
       "      <td>0.816327</td>\n",
       "      <td>0.825652</td>\n",
       "      <td>0.707965</td>\n",
       "      <td>0.835</td>\n",
       "      <td>...</td>\n",
       "      <td>None</td>\n",
       "      <td>None</td>\n",
       "      <td>None</td>\n",
       "      <td>None</td>\n",
       "      <td>fatimatatanda</td>\n",
       "      <td>RandomForest</td>\n",
       "      <td>RandomForest</td>\n",
       "      <td>/opt/anaconda3/envs/project_env/lib/python3.11...</td>\n",
       "      <td>LOCAL</td>\n",
       "      <td>[{\"run_id\": \"f588c848fed345e3a89ebc1de24a5e7b\"...</td>\n",
       "    </tr>\n",
       "    <tr>\n",
       "      <th>2</th>\n",
       "      <td>a1a69c6371864e689768b442b9a8140c</td>\n",
       "      <td>147046143188902615</td>\n",
       "      <td>FINISHED</td>\n",
       "      <td>/Users/fatimatatanda/Library/CloudStorage/OneD...</td>\n",
       "      <td>2025-05-31 08:16:41.656000+00:00</td>\n",
       "      <td>2025-05-31 08:16:43.643000+00:00</td>\n",
       "      <td>0.755102</td>\n",
       "      <td>0.820854</td>\n",
       "      <td>0.556391</td>\n",
       "      <td>0.705</td>\n",
       "      <td>...</td>\n",
       "      <td>None</td>\n",
       "      <td>None</td>\n",
       "      <td>None</td>\n",
       "      <td>None</td>\n",
       "      <td>fatimatatanda</td>\n",
       "      <td>SVM</td>\n",
       "      <td>SVM</td>\n",
       "      <td>/opt/anaconda3/envs/project_env/lib/python3.11...</td>\n",
       "      <td>LOCAL</td>\n",
       "      <td>[{\"run_id\": \"a1a69c6371864e689768b442b9a8140c\"...</td>\n",
       "    </tr>\n",
       "    <tr>\n",
       "      <th>3</th>\n",
       "      <td>2d56accef036474ba193e95818c54710</td>\n",
       "      <td>147046143188902615</td>\n",
       "      <td>FINISHED</td>\n",
       "      <td>/Users/fatimatatanda/Library/CloudStorage/OneD...</td>\n",
       "      <td>2025-05-31 08:14:28.165000+00:00</td>\n",
       "      <td>2025-05-31 08:14:30.147000+00:00</td>\n",
       "      <td>0.795918</td>\n",
       "      <td>0.815245</td>\n",
       "      <td>NaN</td>\n",
       "      <td>0.680</td>\n",
       "      <td>...</td>\n",
       "      <td>True</td>\n",
       "      <td>False</td>\n",
       "      <td>lbfgs</td>\n",
       "      <td>None</td>\n",
       "      <td>fatimatatanda</td>\n",
       "      <td>LogisticRegression</td>\n",
       "      <td>LogisticRegression</td>\n",
       "      <td>/opt/anaconda3/envs/project_env/lib/python3.11...</td>\n",
       "      <td>LOCAL</td>\n",
       "      <td>[{\"run_id\": \"2d56accef036474ba193e95818c54710\"...</td>\n",
       "    </tr>\n",
       "    <tr>\n",
       "      <th>4</th>\n",
       "      <td>121ccc109d3a45b18a718bad125947dc</td>\n",
       "      <td>147046143188902615</td>\n",
       "      <td>FINISHED</td>\n",
       "      <td>/Users/fatimatatanda/Library/CloudStorage/OneD...</td>\n",
       "      <td>2025-05-31 08:14:10.944000+00:00</td>\n",
       "      <td>2025-05-31 08:14:14.106000+00:00</td>\n",
       "      <td>NaN</td>\n",
       "      <td>NaN</td>\n",
       "      <td>NaN</td>\n",
       "      <td>NaN</td>\n",
       "      <td>...</td>\n",
       "      <td>None</td>\n",
       "      <td>None</td>\n",
       "      <td>None</td>\n",
       "      <td>None</td>\n",
       "      <td>fatimatatanda</td>\n",
       "      <td>EDA and Feature Engineering</td>\n",
       "      <td>None</td>\n",
       "      <td>/opt/anaconda3/envs/project_env/lib/python3.11...</td>\n",
       "      <td>LOCAL</td>\n",
       "      <td>None</td>\n",
       "    </tr>\n",
       "  </tbody>\n",
       "</table>\n",
       "<p>5 rows × 86 columns</p>\n",
       "</div>"
      ],
      "text/plain": [
       "                             run_id       experiment_id    status  \\\n",
       "0  f3bda67dcf564c759636c5f5096361eb  147046143188902615  FINISHED   \n",
       "1  f588c848fed345e3a89ebc1de24a5e7b  147046143188902615  FINISHED   \n",
       "2  a1a69c6371864e689768b442b9a8140c  147046143188902615  FINISHED   \n",
       "3  2d56accef036474ba193e95818c54710  147046143188902615  FINISHED   \n",
       "4  121ccc109d3a45b18a718bad125947dc  147046143188902615  FINISHED   \n",
       "\n",
       "                                        artifact_uri  \\\n",
       "0  /Users/fatimatatanda/Library/CloudStorage/OneD...   \n",
       "1  /Users/fatimatatanda/Library/CloudStorage/OneD...   \n",
       "2  /Users/fatimatatanda/Library/CloudStorage/OneD...   \n",
       "3  /Users/fatimatatanda/Library/CloudStorage/OneD...   \n",
       "4  /Users/fatimatatanda/Library/CloudStorage/OneD...   \n",
       "\n",
       "                        start_time                         end_time  \\\n",
       "0 2025-05-31 08:15:55.476000+00:00 2025-05-31 08:15:57.576000+00:00   \n",
       "1 2025-05-31 08:15:11.047000+00:00 2025-05-31 08:15:13.214000+00:00   \n",
       "2 2025-05-31 08:16:41.656000+00:00 2025-05-31 08:16:43.643000+00:00   \n",
       "3 2025-05-31 08:14:28.165000+00:00 2025-05-31 08:14:30.147000+00:00   \n",
       "4 2025-05-31 08:14:10.944000+00:00 2025-05-31 08:14:14.106000+00:00   \n",
       "\n",
       "   metrics.Recall  metrics.AUC  metrics.F1_score  metrics.Accuracy  ...  \\\n",
       "0        0.653061     0.828085          0.680851             0.850  ...   \n",
       "1        0.816327     0.825652          0.707965             0.835  ...   \n",
       "2        0.755102     0.820854          0.556391             0.705  ...   \n",
       "3        0.795918     0.815245               NaN             0.680  ...   \n",
       "4             NaN          NaN               NaN               NaN  ...   \n",
       "\n",
       "   params.fit_intercept  params.dual params.solver params.l1_ratio  \\\n",
       "0                  None         None          None            None   \n",
       "1                  None         None          None            None   \n",
       "2                  None         None          None            None   \n",
       "3                  True        False         lbfgs            None   \n",
       "4                  None         None          None            None   \n",
       "\n",
       "  tags.mlflow.user          tags.mlflow.runName          tags.model  \\\n",
       "0    fatimatatanda                      XGBoost             XGBoost   \n",
       "1    fatimatatanda                 RandomForest        RandomForest   \n",
       "2    fatimatatanda                          SVM                 SVM   \n",
       "3    fatimatatanda           LogisticRegression  LogisticRegression   \n",
       "4    fatimatatanda  EDA and Feature Engineering                None   \n",
       "\n",
       "                             tags.mlflow.source.name tags.mlflow.source.type  \\\n",
       "0  /opt/anaconda3/envs/project_env/lib/python3.11...                   LOCAL   \n",
       "1  /opt/anaconda3/envs/project_env/lib/python3.11...                   LOCAL   \n",
       "2  /opt/anaconda3/envs/project_env/lib/python3.11...                   LOCAL   \n",
       "3  /opt/anaconda3/envs/project_env/lib/python3.11...                   LOCAL   \n",
       "4  /opt/anaconda3/envs/project_env/lib/python3.11...                   LOCAL   \n",
       "\n",
       "                       tags.mlflow.log-model.history  \n",
       "0  [{\"run_id\": \"f3bda67dcf564c759636c5f5096361eb\"...  \n",
       "1  [{\"run_id\": \"f588c848fed345e3a89ebc1de24a5e7b\"...  \n",
       "2  [{\"run_id\": \"a1a69c6371864e689768b442b9a8140c\"...  \n",
       "3  [{\"run_id\": \"2d56accef036474ba193e95818c54710\"...  \n",
       "4                                               None  \n",
       "\n",
       "[5 rows x 86 columns]"
      ]
     },
     "execution_count": 42,
     "metadata": {},
     "output_type": "execute_result"
    }
   ],
   "source": [
    "## get experiment details\n",
    "\n",
    "experiment = client.get_experiment_by_name(experiment_name)\n",
    "runs = mlflow.search_runs(experiment_ids=[experiment.experiment_id], order_by=['metrics.AUC DESC'])\n",
    "runs"
   ]
  },
  {
   "cell_type": "code",
   "execution_count": 44,
   "id": "0a1b350e",
   "metadata": {},
   "outputs": [
    {
     "name": "stdout",
     "output_type": "stream",
     "text": [
      "\n",
      "Best Run ID: f3bda67dcf564c759636c5f5096361eb, Model: XGBoost, \n",
      "AUC: 0.828, \n",
      "F1-Score: 0.681, \n",
      "Precision: 0.711, \n",
      "Recall: 0.653, \n",
      "Accuracy: 0.850\n"
     ]
    }
   ],
   "source": [
    "best_run_id = runs.iloc[0][\"run_id\"]\n",
    "best_model_name = runs.iloc[0][\"params.model\"]\n",
    "print(f\"\\nBest Run ID: {best_run_id}, Model: {best_model_name}, \\nAUC: {runs.iloc[0]['metrics.AUC']:.3f}, \\nF1-Score: {runs.iloc[0]['metrics.F1_score']:.3f}, \\nPrecision: {runs.iloc[0]['metrics.Precision']:.3f}, \\nRecall: {runs.iloc[0]['metrics.Recall']:.3f}, \\nAccuracy: {runs.iloc[0]['metrics.Accuracy']:.3f}\")\n",
    "\n"
   ]
  },
  {
   "cell_type": "code",
   "execution_count": 45,
   "id": "cf790c12",
   "metadata": {},
   "outputs": [
    {
     "name": "stderr",
     "output_type": "stream",
     "text": [
      "Successfully registered model 'AutoInsuranceFraudModel'.\n",
      "2025/05/31 03:20:43 INFO mlflow.store.model_registry.abstract_store: Waiting up to 300 seconds for model version to finish creation. Model name: AutoInsuranceFraudModel, version 1\n"
     ]
    },
    {
     "name": "stdout",
     "output_type": "stream",
     "text": [
      "\n",
      "Registered model 'AutoInsuranceFraudModel' from run f3bda67dcf564c759636c5f5096361eb\n"
     ]
    },
    {
     "name": "stderr",
     "output_type": "stream",
     "text": [
      "Created version '1' of model 'AutoInsuranceFraudModel'.\n"
     ]
    }
   ],
   "source": [
    "# register the model from best run\n",
    "model_uri = f\"runs:/{best_run_id}/{best_model_name}\"\n",
    "registered_model_name = \"AutoInsuranceFraudModel\"\n",
    "\n",
    "mlflow.register_model(model_uri=model_uri, name=registered_model_name)\n",
    "\n",
    "print(f\"\\nRegistered model '{registered_model_name}' from run {best_run_id}\")"
   ]
  },
  {
   "cell_type": "code",
   "execution_count": null,
   "id": "c276c977",
   "metadata": {},
   "outputs": [],
   "source": []
  }
 ],
 "metadata": {
  "kernelspec": {
   "display_name": "project_env",
   "language": "python",
   "name": "project_env"
  },
  "language_info": {
   "codemirror_mode": {
    "name": "ipython",
    "version": 3
   },
   "file_extension": ".py",
   "mimetype": "text/x-python",
   "name": "python",
   "nbconvert_exporter": "python",
   "pygments_lexer": "ipython3",
   "version": "3.11.11"
  }
 },
 "nbformat": 4,
 "nbformat_minor": 5
}
